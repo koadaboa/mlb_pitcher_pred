{
 "cells": [
  {
   "cell_type": "code",
   "execution_count": 1,
   "id": "3def32ae-b83a-419d-bda0-b766adbcb5e8",
   "metadata": {},
   "outputs": [],
   "source": [
    "import pandas as pd\n",
    "import sys\n",
    "import os\n",
    "from pathlib import Path\n",
    "import sqlite3\n",
    "\n",
    "project_root = os.path.abspath('../../')\n",
    "if project_root not in sys.path:\n",
    "    sys.path.append(project_root)\n",
    "    \n",
    "from src.data.db import DBConnection, execute_query, get_pitcher_data\n",
    "from config import DBConfig"
   ]
  },
  {
   "cell_type": "code",
   "execution_count": 2,
   "id": "01f3aaa7-cc9f-40df-8cc2-9853ca280ec6",
   "metadata": {},
   "outputs": [],
   "source": [
    "class NotebookDBConnection(DBConnection):\n",
    "    def __init__(self):\n",
    "        db_path = os.path.join(project_root, 'data', 'pitcher_stats.db')\n",
    "        super().__init__(db_name=db_path)"
   ]
  },
  {
   "cell_type": "code",
   "execution_count": 3,
   "id": "7468471f-cea9-4c72-adac-277d02e52734",
   "metadata": {},
   "outputs": [],
   "source": [
    "pd.set_option('display.max_columns', 150)"
   ]
  },
  {
   "cell_type": "code",
   "execution_count": 4,
   "id": "9f6ac07a-7e96-4923-9f48-4074b42a0b1e",
   "metadata": {},
   "outputs": [
    {
     "name": "stdout",
     "output_type": "stream",
     "text": [
      "['pitcher_ids', 'sqlite_sequence', 'teams', 'pitcher_mapping', 'statcast_pitchers', 'team_batting', 'statcast_batters']\n"
     ]
    }
   ],
   "source": [
    "with NotebookDBConnection() as conn:\n",
    "    cursor = conn.cursor()\n",
    "    cursor.execute(\"SELECT name FROM sqlite_master WHERE type='table';\")\n",
    "    tables = cursor.fetchall()\n",
    "    print([table[0] for table in tables])"
   ]
  },
  {
   "cell_type": "code",
   "execution_count": 20,
   "id": "ac466f4f-cbb5-478d-bd2d-fee834181d8c",
   "metadata": {},
   "outputs": [],
   "source": [
    "with NotebookDBConnection() as conn:\n",
    "    df_batters = pd.read_sql_query(\"SELECT * FROM statcast_batters LIMIT 25000;\", conn)\n",
    "    df_pitchers = pd.read_sql_query(\"SELECT * FROM statcast_pitchers LIMIT 25000;\", conn)\n",
    "    df_team_batting = pd.read_sql_query(\"SELECT * FROM team_batting;\", conn)\n",
    "    "
   ]
  },
  {
   "cell_type": "code",
   "execution_count": 22,
   "id": "36b6550c-142d-496a-a90e-5f62d36da537",
   "metadata": {},
   "outputs": [
    {
     "data": {
      "text/plain": [
       "(25000, 115)"
      ]
     },
     "execution_count": 22,
     "metadata": {},
     "output_type": "execute_result"
    }
   ],
   "source": [
    "df_pitchers.shape"
   ]
  },
  {
   "cell_type": "code",
   "execution_count": 24,
   "id": "a5d82eab-1b5b-47df-aead-b4d37ab4e493",
   "metadata": {},
   "outputs": [
    {
     "name": "stdout",
     "output_type": "stream",
     "text": [
      "[(0, 'pitch_type', 'TEXT', 0, None, 0), (1, 'game_date', 'TEXT', 0, None, 0), (2, 'release_speed', 'REAL', 0, None, 0), (3, 'release_pos_x', 'REAL', 0, None, 0), (4, 'release_pos_z', 'REAL', 0, None, 0), (5, 'player_name', 'TEXT', 0, None, 0), (6, 'batter', 'INTEGER', 0, None, 0), (7, 'pitcher', 'INTEGER', 0, None, 0), (8, 'events', 'TEXT', 0, None, 0), (9, 'description', 'TEXT', 0, None, 0), (10, 'spin_dir', 'INTEGER', 0, None, 0), (11, 'spin_rate_deprecated', 'INTEGER', 0, None, 0), (12, 'break_angle_deprecated', 'INTEGER', 0, None, 0), (13, 'break_length_deprecated', 'INTEGER', 0, None, 0), (14, 'zone', 'INTEGER', 0, None, 0), (15, 'des', 'TEXT', 0, None, 0), (16, 'game_type', 'TEXT', 0, None, 0), (17, 'stand', 'TEXT', 0, None, 0), (18, 'p_throws', 'TEXT', 0, None, 0), (19, 'home_team', 'TEXT', 0, None, 0), (20, 'away_team', 'TEXT', 0, None, 0), (21, 'type', 'TEXT', 0, None, 0), (22, 'hit_location', 'INTEGER', 0, None, 0), (23, 'bb_type', 'TEXT', 0, None, 0), (24, 'balls', 'INTEGER', 0, None, 0), (25, 'strikes', 'INTEGER', 0, None, 0), (26, 'game_year', 'INTEGER', 0, None, 0), (27, 'pfx_x', 'REAL', 0, None, 0), (28, 'pfx_z', 'REAL', 0, None, 0), (29, 'plate_x', 'REAL', 0, None, 0), (30, 'plate_z', 'REAL', 0, None, 0), (31, 'on_3b', 'INTEGER', 0, None, 0), (32, 'on_2b', 'INTEGER', 0, None, 0), (33, 'on_1b', 'INTEGER', 0, None, 0), (34, 'outs_when_up', 'INTEGER', 0, None, 0), (35, 'inning', 'INTEGER', 0, None, 0), (36, 'inning_topbot', 'TEXT', 0, None, 0), (37, 'hc_x', 'REAL', 0, None, 0), (38, 'hc_y', 'REAL', 0, None, 0), (39, 'tfs_deprecated', 'INTEGER', 0, None, 0), (40, 'tfs_zulu_deprecated', 'INTEGER', 0, None, 0), (41, 'umpire', 'INTEGER', 0, None, 0), (42, 'sv_id', 'INTEGER', 0, None, 0), (43, 'vx0', 'REAL', 0, None, 0), (44, 'vy0', 'REAL', 0, None, 0), (45, 'vz0', 'REAL', 0, None, 0), (46, 'ax', 'REAL', 0, None, 0), (47, 'ay', 'REAL', 0, None, 0), (48, 'az', 'REAL', 0, None, 0), (49, 'sz_top', 'REAL', 0, None, 0), (50, 'sz_bot', 'REAL', 0, None, 0), (51, 'hit_distance_sc', 'INTEGER', 0, None, 0), (52, 'launch_speed', 'REAL', 0, None, 0), (53, 'launch_angle', 'INTEGER', 0, None, 0), (54, 'effective_speed', 'REAL', 0, None, 0), (55, 'release_spin_rate', 'INTEGER', 0, None, 0), (56, 'release_extension', 'REAL', 0, None, 0), (57, 'game_pk', 'INTEGER', 0, None, 0), (58, 'fielder_2', 'INTEGER', 0, None, 0), (59, 'fielder_3', 'INTEGER', 0, None, 0), (60, 'fielder_4', 'INTEGER', 0, None, 0), (61, 'fielder_5', 'INTEGER', 0, None, 0), (62, 'fielder_6', 'INTEGER', 0, None, 0), (63, 'fielder_7', 'INTEGER', 0, None, 0), (64, 'fielder_8', 'INTEGER', 0, None, 0), (65, 'fielder_9', 'INTEGER', 0, None, 0), (66, 'release_pos_y', 'REAL', 0, None, 0), (67, 'estimated_ba_using_speedangle', 'REAL', 0, None, 0), (68, 'estimated_woba_using_speedangle', 'REAL', 0, None, 0), (69, 'woba_value', 'REAL', 0, None, 0), (70, 'woba_denom', 'INTEGER', 0, None, 0), (71, 'babip_value', 'INTEGER', 0, None, 0), (72, 'iso_value', 'INTEGER', 0, None, 0), (73, 'launch_speed_angle', 'INTEGER', 0, None, 0), (74, 'at_bat_number', 'INTEGER', 0, None, 0), (75, 'pitch_number', 'INTEGER', 0, None, 0), (76, 'pitch_name', 'TEXT', 0, None, 0), (77, 'home_score', 'INTEGER', 0, None, 0), (78, 'away_score', 'INTEGER', 0, None, 0), (79, 'bat_score', 'INTEGER', 0, None, 0), (80, 'fld_score', 'INTEGER', 0, None, 0), (81, 'post_away_score', 'INTEGER', 0, None, 0), (82, 'post_home_score', 'INTEGER', 0, None, 0), (83, 'post_bat_score', 'INTEGER', 0, None, 0), (84, 'post_fld_score', 'INTEGER', 0, None, 0), (85, 'if_fielding_alignment', 'TEXT', 0, None, 0), (86, 'of_fielding_alignment', 'TEXT', 0, None, 0), (87, 'spin_axis', 'INTEGER', 0, None, 0), (88, 'delta_home_win_exp', 'REAL', 0, None, 0), (89, 'delta_run_exp', 'REAL', 0, None, 0), (90, 'bat_speed', 'REAL', 0, None, 0), (91, 'swing_length', 'REAL', 0, None, 0), (92, 'estimated_slg_using_speedangle', 'REAL', 0, None, 0), (93, 'delta_pitcher_run_exp', 'REAL', 0, None, 0), (94, 'hyper_speed', 'REAL', 0, None, 0), (95, 'home_score_diff', 'INTEGER', 0, None, 0), (96, 'bat_score_diff', 'INTEGER', 0, None, 0), (97, 'home_win_exp', 'REAL', 0, None, 0), (98, 'bat_win_exp', 'REAL', 0, None, 0), (99, 'age_pit_legacy', 'INTEGER', 0, None, 0), (100, 'age_bat_legacy', 'INTEGER', 0, None, 0), (101, 'age_pit', 'INTEGER', 0, None, 0), (102, 'age_bat', 'INTEGER', 0, None, 0), (103, 'n_thruorder_pitcher', 'INTEGER', 0, None, 0), (104, 'n_priorpa_thisgame_player_at_bat', 'INTEGER', 0, None, 0), (105, 'pitcher_days_since_prev_game', 'INTEGER', 0, None, 0), (106, 'batter_days_since_prev_game', 'INTEGER', 0, None, 0), (107, 'pitcher_days_until_next_game', 'INTEGER', 0, None, 0), (108, 'batter_days_until_next_game', 'INTEGER', 0, None, 0), (109, 'api_break_z_with_gravity', 'REAL', 0, None, 0), (110, 'api_break_x_arm', 'REAL', 0, None, 0), (111, 'api_break_x_batter_in', 'REAL', 0, None, 0), (112, 'arm_angle', 'REAL', 0, None, 0)]\n"
     ]
    }
   ],
   "source": [
    "with NotebookDBConnection() as conn:\n",
    "    cursor = conn.cursor()\n",
    "    cursor.execute(\"PRAGMA table_info(statcast_pitcher)\")\n",
    "    print(cursor.fetchall())\n",
    "    "
   ]
  },
  {
   "cell_type": "code",
   "execution_count": null,
   "id": "d644c763-b3e4-4bb4-9881-0ff156e4554d",
   "metadata": {},
   "outputs": [],
   "source": []
  }
 ],
 "metadata": {
  "kernelspec": {
   "display_name": "Python 3 (ipykernel)",
   "language": "python",
   "name": "python3"
  },
  "language_info": {
   "codemirror_mode": {
    "name": "ipython",
    "version": 3
   },
   "file_extension": ".py",
   "mimetype": "text/x-python",
   "name": "python",
   "nbconvert_exporter": "python",
   "pygments_lexer": "ipython3",
   "version": "3.9.7"
  }
 },
 "nbformat": 4,
 "nbformat_minor": 5
}
