{
 "cells": [
  {
   "cell_type": "code",
   "execution_count": 1,
   "id": "3def32ae-b83a-419d-bda0-b766adbcb5e8",
   "metadata": {},
   "outputs": [],
   "source": [
    "import pandas as pd\n",
    "import sys\n",
    "import os\n",
    "from pathlib import Path\n",
    "from config import DBConfig\n",
    "import sqlite3\n",
    "\n",
    "project_root = os.path.abspath('../../')\n",
    "if project_root not in sys.path:\n",
    "    sys.path.append(project_root)\n",
    "    \n",
    "from src.data.db import DBConnection, execute_query, get_pitcher_data"
   ]
  },
  {
   "cell_type": "code",
   "execution_count": 2,
   "id": "01f3aaa7-cc9f-40df-8cc2-9853ca280ec6",
   "metadata": {},
   "outputs": [],
   "source": [
    "class NotebookDBConnection(DBConnection):\n",
    "    def __init__(self):\n",
    "        db_path = os.path.join(project_root, 'data', 'pitcher_stats.db')\n",
    "        super().__init__(db_name=db_path)"
   ]
  },
  {
   "cell_type": "code",
   "execution_count": 3,
   "id": "7468471f-cea9-4c72-adac-277d02e52734",
   "metadata": {},
   "outputs": [],
   "source": [
    "pd.set_option('display.max_columns', 150)"
   ]
  },
  {
   "cell_type": "code",
   "execution_count": 16,
   "id": "9f6ac07a-7e96-4923-9f48-4074b42a0b1e",
   "metadata": {},
   "outputs": [
    {
     "name": "stdout",
     "output_type": "stream",
     "text": [
      "['game_context', 'pitchers', 'sqlite_sequence', 'pitch_mix_features', 'team_stats', 'pitcher_ids', 'teams', 'games', 'statcast_pitches', 'game_stats', 'pitch_mix', 'team_batting_stats', 'batter_profiles', 'sequence_patterns', 'prediction_features', 'starter_probability']\n"
     ]
    }
   ],
   "source": [
    "with NotebookDBConnection() as conn:\n",
    "    cursor = conn.cursor()\n",
    "    cursor.execute(\"SELECT name FROM sqlite_master WHERE type='table';\")\n",
    "    tables = cursor.fetchall()\n",
    "    print([table[0] for table in tables])"
   ]
  },
  {
   "cell_type": "code",
   "execution_count": 17,
   "id": "cacb7e47-db3a-42b2-8b41-17e90956f4cc",
   "metadata": {},
   "outputs": [
    {
     "name": "stdout",
     "output_type": "stream",
     "text": [
      "['LAD', 'NYY', 'BOS', 'CHC', 'SFG', 'NYM', 'HOU', 'ATL', 'PHI', 'OAK']\n"
     ]
    }
   ],
   "source": [
    "with NotebookDBConnection() as conn:\n",
    "    cursor = conn.cursor()\n",
    "    cursor.execute(\"SELECT * FROM teams LIMIT 10\")\n",
    "    teams = cursor.fetchall()\n",
    "    print([team[1] for team in teams])"
   ]
  },
  {
   "cell_type": "code",
   "execution_count": 31,
   "id": "ac466f4f-cbb5-478d-bd2d-fee834181d8c",
   "metadata": {},
   "outputs": [],
   "source": [
    "with NotebookDBConnection() as conn:\n",
    "    cursor = conn.cursor()\n",
    "    cursor.execute(\"SELECT * FROM pitchers\")\n",
    "    game_context = cursor.fetchall()"
   ]
  },
  {
   "cell_type": "code",
   "execution_count": 28,
   "id": "093f28f3-bd74-48ba-8ac5-5da8e708bb1f",
   "metadata": {},
   "outputs": [],
   "source": [
    "df = pd.DataFrame(game_context)"
   ]
  },
  {
   "cell_type": "code",
   "execution_count": 29,
   "id": "ce47d3ff-a244-4460-806d-810f8b543f2d",
   "metadata": {},
   "outputs": [
    {
     "data": {
      "text/html": [
       "<div>\n",
       "<style scoped>\n",
       "    .dataframe tbody tr th:only-of-type {\n",
       "        vertical-align: middle;\n",
       "    }\n",
       "\n",
       "    .dataframe tbody tr th {\n",
       "        vertical-align: top;\n",
       "    }\n",
       "\n",
       "    .dataframe thead th {\n",
       "        text-align: right;\n",
       "    }\n",
       "</style>\n",
       "<table border=\"1\" class=\"dataframe\">\n",
       "  <thead>\n",
       "    <tr style=\"text-align: right;\">\n",
       "      <th></th>\n",
       "      <th>0</th>\n",
       "      <th>1</th>\n",
       "      <th>2</th>\n",
       "      <th>3</th>\n",
       "    </tr>\n",
       "  </thead>\n",
       "  <tbody>\n",
       "    <tr>\n",
       "      <th>0</th>\n",
       "      <td>1</td>\n",
       "      <td>Sabathia, CC</td>\n",
       "      <td>sabathia cc</td>\n",
       "      <td>282332</td>\n",
       "    </tr>\n",
       "    <tr>\n",
       "      <th>1</th>\n",
       "      <td>2</td>\n",
       "      <td>Pujols, Albert</td>\n",
       "      <td>pujols albert</td>\n",
       "      <td>405395</td>\n",
       "    </tr>\n",
       "    <tr>\n",
       "      <th>2</th>\n",
       "      <td>3</td>\n",
       "      <td>Rodney, Fernando</td>\n",
       "      <td>rodney fernando</td>\n",
       "      <td>407845</td>\n",
       "    </tr>\n",
       "    <tr>\n",
       "      <th>3</th>\n",
       "      <td>4</td>\n",
       "      <td>Pérez, Oliver</td>\n",
       "      <td>perez oliver</td>\n",
       "      <td>424144</td>\n",
       "    </tr>\n",
       "    <tr>\n",
       "      <th>4</th>\n",
       "      <td>5</td>\n",
       "      <td>Mathis, Jeff</td>\n",
       "      <td>mathis jeff</td>\n",
       "      <td>425772</td>\n",
       "    </tr>\n",
       "  </tbody>\n",
       "</table>\n",
       "</div>"
      ],
      "text/plain": [
       "   0                 1                2       3\n",
       "0  1      Sabathia, CC      sabathia cc  282332\n",
       "1  2    Pujols, Albert    pujols albert  405395\n",
       "2  3  Rodney, Fernando  rodney fernando  407845\n",
       "3  4     Pérez, Oliver     perez oliver  424144\n",
       "4  5      Mathis, Jeff      mathis jeff  425772"
      ]
     },
     "execution_count": 29,
     "metadata": {},
     "output_type": "execute_result"
    }
   ],
   "source": [
    "df.head()"
   ]
  },
  {
   "cell_type": "code",
   "execution_count": null,
   "id": "90ac3f04-ad7f-4674-bedd-1b2078f827ad",
   "metadata": {},
   "outputs": [],
   "source": []
  }
 ],
 "metadata": {
  "kernelspec": {
   "display_name": "Python 3 (ipykernel)",
   "language": "python",
   "name": "python3"
  },
  "language_info": {
   "codemirror_mode": {
    "name": "ipython",
    "version": 3
   },
   "file_extension": ".py",
   "mimetype": "text/x-python",
   "name": "python",
   "nbconvert_exporter": "python",
   "pygments_lexer": "ipython3",
   "version": "3.9.7"
  }
 },
 "nbformat": 4,
 "nbformat_minor": 5
}
