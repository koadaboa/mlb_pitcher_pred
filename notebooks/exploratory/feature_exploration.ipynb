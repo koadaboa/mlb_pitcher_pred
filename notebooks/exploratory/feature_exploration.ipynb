{
 "cells": [
  {
   "cell_type": "code",
   "execution_count": 1,
   "id": "3def32ae-b83a-419d-bda0-b766adbcb5e8",
   "metadata": {},
   "outputs": [],
   "source": [
    "import pandas as pd\n",
    "import sys\n",
    "import os\n",
    "from pathlib import Path\n",
    "import sqlite3\n",
    "import warnings\n",
    "warnings.filterwarnings(\"ignore\")\n",
    "\n",
    "project_root = os.path.abspath('../../')\n",
    "if project_root not in sys.path:\n",
    "    sys.path.append(project_root)\n",
    "    \n",
    "from src.data.utils import DBConnection\n",
    "from src.config import DBConfig"
   ]
  },
  {
   "cell_type": "code",
   "execution_count": 17,
   "id": "b40228e4-9039-46f5-bc3c-544fbe14d128",
   "metadata": {},
   "outputs": [],
   "source": [
    "pd.set_option('display.max_columns', None)\n",
    "pd.set_option('display.max_rows', None)"
   ]
  },
  {
   "cell_type": "code",
   "execution_count": 3,
   "id": "01f3aaa7-cc9f-40df-8cc2-9853ca280ec6",
   "metadata": {},
   "outputs": [],
   "source": [
    "class NotebookDBConnection(DBConnection):\n",
    "    def __init__(self):\n",
    "        db_path = os.path.join(project_root, 'data', 'pitcher_stats.db')\n",
    "        super().__init__(db_name=db_path)"
   ]
  },
  {
   "cell_type": "code",
   "execution_count": 22,
   "id": "9f6ac07a-7e96-4923-9f48-4074b42a0b1e",
   "metadata": {},
   "outputs": [
    {
     "name": "stdout",
     "output_type": "stream",
     "text": [
      "['statcast_pitchers', 'statcast_batters', 'pitcher_mapping', 'historical_umpire_data', 'team_mapping', 'mlb_api', 'game_level_pitchers', 'game_level_team_stats', 'train_features', 'test_features']\n"
     ]
    }
   ],
   "source": [
    "with NotebookDBConnection() as conn:\n",
    "    cursor = conn.cursor()\n",
    "    \n",
    "    cursor.execute(\"SELECT name FROM sqlite_master WHERE type='table';\")\n",
    "    tables = cursor.fetchall()\n",
    "    print([table[0] for table in tables])"
   ]
  },
  {
   "cell_type": "code",
   "execution_count": 7,
   "id": "194452b1",
   "metadata": {},
   "outputs": [
    {
     "name": "stdout",
     "output_type": "stream",
     "text": [
      "['game_pk', 'game_date', 'pitcher_id', 'opponent_team', 'is_home', 'ballpark', 'p_throws', 'p_days_rest', 'strikeouts', 'batters_faced', 'season', 'p_roll10g_k_percent', 'p_roll10g_swinging_strike_percent', 'p_roll10g_avg_velocity', 'p_roll10g_k_percent_vs_lhb', 'p_roll10g_swinging_strike_percent_vs_lhb', 'p_roll10g_k_percent_vs_rhb', 'p_roll10g_swinging_strike_percent_vs_rhb', 'opp_roll10g_k_percent', 'opp_roll10g_swinging_strike_percent', 'bp_roll10g_k_percent']\n"
     ]
    }
   ],
   "source": [
    "with NotebookDBConnection() as conn:\n",
    "    cursor = conn.cursor()\n",
    "    cursor.execute(\"PRAGMA table_info(historical_features_basic_platoon_train)\")\n",
    "    columns = cursor.fetchall()\n",
    "    print([column[1] for column in columns])"
   ]
  },
  {
   "cell_type": "code",
   "execution_count": null,
   "id": "5d7f63eb",
   "metadata": {},
   "outputs": [
    {
     "name": "stdout",
     "output_type": "stream",
     "text": [
      "35222\n"
     ]
    }
   ],
   "source": [
    "with NotebookDBConnection() as conn:\n",
    "    df = pd.read_sql_query(\"SELECT * FROM train_features LIMIT 25000\", conn)\n",
    "df.to_csv('train_features_subset.csv')"
   ]
  },
  {
   "cell_type": "code",
   "execution_count": 21,
   "id": "2fe09746",
   "metadata": {},
   "outputs": [
    {
     "data": {
      "text/plain": [
       "{'bp_roll3g_k_percent': 119,\n",
       " 'bp_roll5g_k_percent': 119,\n",
       " 'pitcher_id': 0,\n",
       " 'batters_faced': 0,\n",
       " 'season': 0,\n",
       " 'is_home': 0,\n",
       " 'p_roll10g_k_percent_vs_lhb': 1296,\n",
       " 'p_roll10g_swinging_strike_percent_vs_rhb': 1296,\n",
       " 'bp_roll10g_k_percent': 119,\n",
       " 'p_roll10g_k_percent_vs_rhb': 1296,\n",
       " 'opp_roll25g_k_percent_vs_RHP': 97,\n",
       " 'opp_roll5g_swinging_strike_percent': 97,\n",
       " 'opp_roll25g_swinging_strike_percent_vs_LHP': 97,\n",
       " 'p_roll5g_avg_velocity': 1296,\n",
       " 'opp_roll10g_swinging_strike_percent_vs_LHP': 97,\n",
       " 'opp_roll25g_k_percent_vs_LHP': 97,\n",
       " 'opponent_team': 0,\n",
       " 'game_date': 0,\n",
       " 'p_roll5g_swinging_strike_percent_vs_rhb': 1296,\n",
       " 'p_roll25g_k_percent_vs_lhb': 1296,\n",
       " 'p_roll3g_k_percent': 1296,\n",
       " 'p_roll5g_swinging_strike_percent_vs_lhb': 1296,\n",
       " 'p_roll5g_k_percent_vs_lhb': 1296,\n",
       " 'opp_roll10g_k_percent': 97,\n",
       " 'opp_roll10g_k_percent_vs_RHP': 97,\n",
       " 'opp_roll3g_swinging_strike_percent_vs_LHP': 97,\n",
       " 'opp_roll25g_swinging_strike_percent': 97,\n",
       " 'p_days_rest': 652,\n",
       " 'p_roll10g_swinging_strike_percent': 1296,\n",
       " 'p_roll5g_swinging_strike_percent': 1296,\n",
       " 'strikeouts': 0,\n",
       " 'opp_roll25g_k_percent': 97,\n",
       " 'p_throws': 0,\n",
       " 'opp_roll3g_swinging_strike_percent_vs_RHP': 97,\n",
       " 'game_pk': 0,\n",
       " 'ballpark': 0,\n",
       " 'p_roll10g_k_percent': 1296,\n",
       " 'p_roll5g_k_percent': 1296,\n",
       " 'opp_roll5g_swinging_strike_percent_vs_RHP': 97,\n",
       " 'opp_roll3g_k_percent_vs_RHP': 97,\n",
       " 'opp_roll25g_swinging_strike_percent_vs_RHP': 97,\n",
       " 'p_roll10g_avg_velocity': 1296,\n",
       " 'bp_roll25g_k_percent': 119,\n",
       " 'p_roll25g_avg_velocity': 1296,\n",
       " 'opp_roll10g_k_percent_vs_LHP': 97,\n",
       " 'p_roll3g_k_percent_vs_lhb': 1296,\n",
       " 'p_roll3g_k_percent_vs_rhb': 1296,\n",
       " 'p_roll3g_swinging_strike_percent_vs_rhb': 1296,\n",
       " 'p_roll10g_swinging_strike_percent_vs_lhb': 1296,\n",
       " 'opp_roll5g_k_percent_vs_LHP': 97,\n",
       " 'opp_roll3g_swinging_strike_percent': 97,\n",
       " 'p_roll3g_swinging_strike_percent': 1296,\n",
       " 'p_roll25g_k_percent_vs_rhb': 1296,\n",
       " 'opp_roll5g_k_percent_vs_RHP': 97,\n",
       " 'opp_roll3g_k_percent': 97,\n",
       " 'opp_roll10g_swinging_strike_percent_vs_RHP': 97,\n",
       " 'p_roll3g_avg_velocity': 1296,\n",
       " 'opp_roll5g_k_percent': 97,\n",
       " 'p_roll25g_swinging_strike_percent': 1296,\n",
       " 'opp_roll10g_swinging_strike_percent': 97,\n",
       " 'opp_roll5g_swinging_strike_percent_vs_LHP': 97,\n",
       " 'opp_roll3g_k_percent_vs_LHP': 97,\n",
       " 'p_roll25g_swinging_strike_percent_vs_lhb': 1296,\n",
       " 'p_roll25g_swinging_strike_percent_vs_rhb': 1296,\n",
       " 'p_roll5g_k_percent_vs_rhb': 1296,\n",
       " 'p_roll3g_swinging_strike_percent_vs_lhb': 1296,\n",
       " 'p_roll25g_k_percent': 1296}"
      ]
     },
     "execution_count": 21,
     "metadata": {},
     "output_type": "execute_result"
    }
   ],
   "source": [
    "df.isna().sum().to_dict()"
   ]
  },
  {
   "cell_type": "code",
   "execution_count": 19,
   "id": "dc510e74",
   "metadata": {},
   "outputs": [
    {
     "data": {
      "text/plain": [
       "(35222, 67)"
      ]
     },
     "execution_count": 19,
     "metadata": {},
     "output_type": "execute_result"
    }
   ],
   "source": [
    "df.shape"
   ]
  },
  {
   "cell_type": "code",
   "execution_count": null,
   "id": "5c4e15e8",
   "metadata": {},
   "outputs": [],
   "source": []
  }
 ],
 "metadata": {
  "kernelspec": {
   "display_name": "venv",
   "language": "python",
   "name": "python3"
  },
  "language_info": {
   "codemirror_mode": {
    "name": "ipython",
    "version": 3
   },
   "file_extension": ".py",
   "mimetype": "text/x-python",
   "name": "python",
   "nbconvert_exporter": "python",
   "pygments_lexer": "ipython3",
   "version": "3.11.8"
  }
 },
 "nbformat": 4,
 "nbformat_minor": 5
}
