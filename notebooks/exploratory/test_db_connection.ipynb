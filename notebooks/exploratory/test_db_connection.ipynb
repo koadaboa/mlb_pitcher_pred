{
 "cells": [
  {
   "cell_type": "code",
   "execution_count": 8,
   "id": "ce78c3c9-b76d-47ca-8e3e-909527f53d8b",
   "metadata": {},
   "outputs": [],
   "source": [
    "import sys\n",
    "from pathlib import Path\n",
    "\n",
    "# Add project root to Python path\n",
    "project_root = Path().resolve().parents[1]"
   ]
  },
  {
   "cell_type": "code",
   "execution_count": 16,
   "id": "5e198076-1102-4947-9ab1-9c218a5e74fd",
   "metadata": {},
   "outputs": [],
   "source": [
    "if str(project_root) not in sys.path:\n",
    "    sys.path.append(str(project_root))\n",
    "\n",
    "from src.data.db import execute_query"
   ]
  },
  {
   "cell_type": "code",
   "execution_count": 12,
   "id": "f6338a6e-d035-416e-b969-d412f9eb1690",
   "metadata": {},
   "outputs": [],
   "source": [
    "tables = execute_query(\"\"\"\n",
    "    SELECT name FROM sqlite_master\n",
    "    WHERE type = 'table'\n",
    "    ORDER BY name;\n",
    "\"\"\")"
   ]
  },
  {
   "cell_type": "code",
   "execution_count": 13,
   "id": "b76a6c33-4fae-450c-84ec-e333f6847f5a",
   "metadata": {},
   "outputs": [
    {
     "name": "stdout",
     "output_type": "stream",
     "text": [
      " - name\n"
     ]
    }
   ],
   "source": [
    "for table in tables:\n",
    "    print(f\" - {table}\")"
   ]
  },
  {
   "cell_type": "code",
   "execution_count": 10,
   "id": "630e72ea-b769-46e8-8d41-2b69860ce681",
   "metadata": {},
   "outputs": [
    {
     "name": "stdout",
     "output_type": "stream",
     "text": [
      "Empty DataFrame\n",
      "Columns: [cid, name, type, notnull, dflt_value, pk]\n",
      "Index: []\n",
      "Error: Execution failed on sql 'SELECT * FROM game_stats LIMIT 1': no such table: game_stats\n"
     ]
    }
   ],
   "source": [
    "# Check the table schema\n",
    "table_info = execute_query(\"PRAGMA table_info(game_stats)\")\n",
    "print(table_info)\n",
    "\n",
    "# Alternative: Get the column names by fetching one row\n",
    "try:\n",
    "    sample = execute_query(\"SELECT * FROM game_stats LIMIT 1\")\n",
    "    print(\"Columns in the table:\", sample.columns.tolist())\n",
    "except Exception as e:\n",
    "    print(f\"Error: {e}\")"
   ]
  },
  {
   "cell_type": "code",
   "execution_count": null,
   "id": "7f148287-fa08-4b83-a111-dfda9e5feb75",
   "metadata": {},
   "outputs": [],
   "source": []
  }
 ],
 "metadata": {
  "kernelspec": {
   "display_name": "Python 3 (ipykernel)",
   "language": "python",
   "name": "python3"
  },
  "language_info": {
   "codemirror_mode": {
    "name": "ipython",
    "version": 3
   },
   "file_extension": ".py",
   "mimetype": "text/x-python",
   "name": "python",
   "nbconvert_exporter": "python",
   "pygments_lexer": "ipython3",
   "version": "3.9.7"
  }
 },
 "nbformat": 4,
 "nbformat_minor": 5
}
